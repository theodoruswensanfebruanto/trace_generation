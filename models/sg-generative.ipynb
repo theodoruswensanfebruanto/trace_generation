{
 "cells": [
  {
   "cell_type": "code",
   "execution_count": null,
   "id": "f2e42c51-065a-4445-86dc-133249f765f7",
   "metadata": {},
   "outputs": [],
   "source": [
    "from natsort import natsorted\n",
    "from sklearn.mixture import GaussianMixture\n",
    "import numpy as np\n",
    "import os\n",
    "import pandas as pd\n",
    "\n",
    "root_folder = '' # For the datasets (real trace data)\n",
    "\n",
    "def find_and_sort_csv_files(folder):\n",
    "    csv_files = []\n",
    "    for root, dirs, files in os.walk(folder):\n",
    "        for file in files:\n",
    "            if file.endswith('.csv'):\n",
    "                csv_files.append(os.path.join(root, file))\n",
    "    csv_files_sorted = natsorted(csv_files)\n",
    "    return csv_files_sorted\n",
    "\n",
    "all_csv_files_sorted = find_and_sort_csv_files(root_folder)\n",
    "max_int64 = np.iinfo(np.int64).max\n",
    "\n",
    "def process_dataset(file_path):\n",
    "    df = pd.read_csv(file_path)\n",
    "    model = GaussianMixture(n_components=5)\n",
    "    model.fit(df)\n",
    "    synthetic_data = model.sample(len(df))[0]\n",
    "    df_predict = pd.DataFrame(data=synthetic_data, columns=df.columns)\n",
    "    df_predict = np.round(df_predict)\n",
    "    for col in df_predict.columns:\n",
    "        if df_predict[col].max() * 3 < max_int64:\n",
    "            df_predict[col] = df_predict[col].astype(np.int64)\n",
    "    dir_name = os.path.basename(os.path.dirname(file_path))\n",
    "    file_name = os.path.splitext(os.path.basename(file_path))[0]\n",
    "    final_name = f'{dir_name}_{file_name}'\n",
    "    df_predict.to_csv(f'.../{final_name}.csv', index=False) # For the target folder of the results (synthetic trace data)"
   ]
  },
  {
   "cell_type": "code",
   "execution_count": null,
   "id": "db765090-1b30-47bf-816d-51574edbaffc",
   "metadata": {},
   "outputs": [],
   "source": [
    "for csv_file in all_csv_files_sorted:\n",
    "    file_path = os.path.join(root_folder, csv_file)\n",
    "    process_dataset(file_path)\n",
    "    print(f'{file_path}')"
   ]
  }
 ],
 "metadata": {
  "kernelspec": {
   "display_name": "Python 3 (ipykernel)",
   "language": "python",
   "name": "python3"
  },
  "language_info": {
   "codemirror_mode": {
    "name": "ipython",
    "version": 3
   },
   "file_extension": ".py",
   "mimetype": "text/x-python",
   "name": "python",
   "nbconvert_exporter": "python",
   "pygments_lexer": "ipython3",
   "version": "3.10.11"
  }
 },
 "nbformat": 4,
 "nbformat_minor": 5
}
