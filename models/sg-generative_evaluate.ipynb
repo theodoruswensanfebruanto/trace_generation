{
 "cells": [
  {
   "cell_type": "code",
   "execution_count": null,
   "id": "18d527e3-6018-41f1-9c19-da7030a07f7b",
   "metadata": {},
   "outputs": [],
   "source": [
    "from natsort import natsorted\n",
    "import numpy as np\n",
    "import os\n",
    "import pandas as pd\n",
    "\n",
    "root_folder = '' # For the datasets (real trace data)\n",
    "\n",
    "def find_and_sort_csv_files(folder):\n",
    "    csv_files = []\n",
    "    for root, dirs, files in os.walk(folder):\n",
    "        for file in files:\n",
    "            if file.endswith('.csv'):\n",
    "                csv_files.append(os.path.join(root, file))\n",
    "    csv_files_sorted = natsorted(csv_files)\n",
    "    return csv_files_sorted\n",
    "\n",
    "all_csv_files_sorted = find_and_sort_csv_files(root_folder)\n",
    "epsilon = 1e-10\n",
    "\n",
    "def process_dataset(file_path):\n",
    "    df_test = pd.read_csv(file_path)\n",
    "    dir_name = os.path.basename(os.path.dirname(file_path))\n",
    "    file_name = os.path.splitext(os.path.basename(file_path))[0]\n",
    "    final_name = f'{dir_name}_{file_name}'\n",
    "    df_predict = pd.read_csv(f'.../{final_name}.csv') # For the target folder of the results (synthetic trace data)\n",
    "    results = []\n",
    "    differences_list = []\n",
    "    for col in df_test.columns:\n",
    "        mean_y_test = np.mean(df_test[col])\n",
    "        std_y_test = np.std(df_test[col])\n",
    "        median_y_test = np.median(df_test[col])\n",
    "        percentile_25_y_test = np.percentile(df_test[col], 25)\n",
    "        percentile_75_y_test = np.percentile(df_test[col], 75)\n",
    "        variance_y_test = np.var(df_test[col])\n",
    "        mean_y_pred = np.mean(df_predict[col])\n",
    "        std_y_pred = np.std(df_predict[col])\n",
    "        median_y_pred = np.median(df_predict[col])\n",
    "        percentile_25_y_pred = np.percentile(df_predict[col], 25)\n",
    "        percentile_75_y_pred = np.percentile(df_predict[col], 75)\n",
    "        variance_y_pred = np.var(df_predict[col])\n",
    "        mean_result = abs(mean_y_test - mean_y_pred) / ((abs(mean_y_test) + abs(mean_y_pred)) / 2 + epsilon)\n",
    "        std_result = abs(std_y_test - std_y_pred) / ((abs(std_y_test) + abs(std_y_pred)) / 2 + epsilon)\n",
    "        median_result = abs(median_y_test - median_y_pred) / ((abs(median_y_test) + abs(median_y_pred)) / 2 + epsilon)\n",
    "        percentile_25_result = abs(percentile_25_y_test - percentile_25_y_pred) / ((abs(percentile_25_y_test) + abs(percentile_25_y_pred)) / 2 + epsilon)\n",
    "        percentile_75_result = abs(percentile_75_y_test - percentile_75_y_pred) / ((abs(percentile_75_y_test) + abs(percentile_75_y_pred)) / 2 + epsilon)\n",
    "        variance_result = abs(variance_y_test - variance_y_pred) / ((abs(variance_y_test) + abs(variance_y_pred)) / 2 + epsilon)\n",
    "        final_diff = np.mean([mean_result, std_result, median_result, percentile_25_result, percentile_75_result, variance_result])\n",
    "        if final_diff > 2:\n",
    "            final_diff = 2\n",
    "        final_diff *= 100\n",
    "        differences_list.append(final_diff)\n",
    "    difference = np.mean(differences_list)\n",
    "    return difference"
   ]
  },
  {
   "cell_type": "code",
   "execution_count": null,
   "id": "ef82c8eb-0fa0-408f-9145-5d9bb213d7ef",
   "metadata": {},
   "outputs": [],
   "source": [
    "all_differences = []\n",
    "\n",
    "for csv_file in all_csv_files_sorted:\n",
    "    file_path = os.path.join(root_folder, csv_file)\n",
    "    difference = process_dataset(file_path)\n",
    "    print(f'{file_path}\\nAverage Statistical Difference: {difference:.2f}%\\n')\n",
    "    all_differences.append(difference)\n",
    "\n",
    "the_final_difference = np.mean(all_differences)\n",
    "print(f'The Final Difference: {the_final_difference:.2f}%\\n')"
   ]
  }
 ],
 "metadata": {
  "kernelspec": {
   "display_name": "Python 3 (ipykernel)",
   "language": "python",
   "name": "python3"
  },
  "language_info": {
   "codemirror_mode": {
    "name": "ipython",
    "version": 3
   },
   "file_extension": ".py",
   "mimetype": "text/x-python",
   "name": "python",
   "nbconvert_exporter": "python",
   "pygments_lexer": "ipython3",
   "version": "3.10.11"
  }
 },
 "nbformat": 4,
 "nbformat_minor": 5
}
