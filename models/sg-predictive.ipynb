{
 "cells": [
  {
   "cell_type": "code",
   "execution_count": null,
   "id": "ff10fdee-8119-4c1e-8902-3e043022766a",
   "metadata": {},
   "outputs": [],
   "source": [
    "from natsort import natsorted\n",
    "from sklearn.linear_model import LinearRegression, LogisticRegression\n",
    "from sklearn.preprocessing import MinMaxScaler\n",
    "import numpy as np\n",
    "import os\n",
    "import pandas as pd\n",
    "\n",
    "root_folder = '' # For the datasets (real trace data)\n",
    "\n",
    "def find_and_sort_csv_files(folder):\n",
    "    csv_files = []\n",
    "    for root, dirs, files in os.walk(folder):\n",
    "        for file in files:\n",
    "            if file.endswith('.csv'):\n",
    "                csv_files.append(os.path.join(root, file))\n",
    "    csv_files_sorted = natsorted(csv_files)\n",
    "    return csv_files_sorted\n",
    "\n",
    "all_csv_files_sorted = find_and_sort_csv_files(root_folder)\n",
    "distance = 1\n",
    "count = 50\n",
    "\n",
    "def process_dataset(file_path):\n",
    "    df = pd.read_csv(file_path)\n",
    "    train_length = int(np.round(len(df) * (1 - test_size)))\n",
    "    test_length = len(df) - train_length\n",
    "    df_train = df.head(train_length).copy()\n",
    "    df_test = df.tail(test_length).copy()\n",
    "    df_predict = df_test.copy()\n",
    "    non_immutable_columns = []\n",
    "    continuous_columns = []\n",
    "    discrete_columns = []\n",
    "    for col in df_train.columns:\n",
    "        unique_values = df_train[col].nunique()\n",
    "        if unique_values > 1:\n",
    "            non_immutable_columns.append(col)\n",
    "            if unique_values > 15:\n",
    "                continuous_columns.append(col)\n",
    "            else:\n",
    "                discrete_columns.append(col)\n",
    "    df_edited = df.copy()\n",
    "    new_columns = {}\n",
    "    for col in non_immutable_columns:\n",
    "        for i in range(1, count + 1):\n",
    "            new_columns[f'{col}_{i}'] = df_edited[col].shift((i - 1) * distance + test_length)\n",
    "    new_df = pd.DataFrame(new_columns)\n",
    "    df_edited = pd.concat([df_edited, new_df], axis=1)\n",
    "    for col in non_immutable_columns:\n",
    "        for i in range(1, count + 1):\n",
    "            df_edited[f'{col}_{i}'].fillna(-1, inplace=True)\n",
    "            if df_train[col].dtype == 'int64':\n",
    "                df_edited[f'{col}_{i}'] = np.round(df_edited[f'{col}_{i}']).astype('int64')\n",
    "    for col in df_train.columns:\n",
    "        if col in non_immutable_columns:\n",
    "            X = np.hstack((df_edited.index.values.reshape(-1, 1), df_edited[[f'{col}_{i}' for i in range(1, count + 1)]].values))\n",
    "            y = df_edited[col].values\n",
    "            X_train, X_test = X[:train_length], X[train_length:]\n",
    "            y_train, y_test = y[:train_length], y[train_length:]\n",
    "            if col in continuous_columns:\n",
    "                tail_value = int(0.95 * len(X_train))\n",
    "                X_train = X_train[tail_value:]\n",
    "                y_train = y_train[tail_value:]\n",
    "            scale = MinMaxScaler()\n",
    "            X_train = scale.fit_transform(X_train)\n",
    "            X_test = scale.transform(X_test)\n",
    "            if col in continuous_columns:\n",
    "                model = LinearRegression()\n",
    "            else:\n",
    "                model = LogisticRegression(max_iter=10000, random_state=42)\n",
    "            model.fit(X_train, y_train)\n",
    "            y_pred = model.predict(X_test)\n",
    "            y_pred = np.where(y_pred < -1, -1, y_pred)\n",
    "            if df_train[col].dtype == 'int64':\n",
    "                y_pred = np.round(y_pred).astype('int64')\n",
    "            df_predict[col] = y_pred\n",
    "    dir_name = os.path.basename(os.path.dirname(file_path))\n",
    "    file_name = os.path.splitext(os.path.basename(file_path))[0]\n",
    "    final_name = f'{dir_name}_{file_name}_{int(np.round(test_size * 100))}'\n",
    "    df_predict.to_csv(f'.../{final_name}.csv', index=False) # For the target folder of the results (synthetic trace data)"
   ]
  },
  {
   "cell_type": "code",
   "execution_count": null,
   "id": "e3564ff2-fce1-4e03-ab47-c744c5a1d1ea",
   "metadata": {},
   "outputs": [],
   "source": [
    "test_size = 0.2\n",
    "\n",
    "for csv_file in all_csv_files_sorted:\n",
    "    file_path = os.path.join(root_folder, csv_file)\n",
    "    process_dataset(file_path)\n",
    "    print(f'{file_path}')"
   ]
  },
  {
   "cell_type": "code",
   "execution_count": null,
   "id": "7a7dffef-7dfb-4769-aac6-1f9e932c4d6b",
   "metadata": {},
   "outputs": [],
   "source": [
    "test_size = 0.5\n",
    "\n",
    "for csv_file in all_csv_files_sorted:\n",
    "    file_path = os.path.join(root_folder, csv_file)\n",
    "    process_dataset(file_path)\n",
    "    print(f'{file_path}')"
   ]
  },
  {
   "cell_type": "code",
   "execution_count": null,
   "id": "620a680a-5f09-44f7-ac4b-fddb0c2152ab",
   "metadata": {},
   "outputs": [],
   "source": [
    "test_size = 0.8\n",
    "\n",
    "for csv_file in all_csv_files_sorted:\n",
    "    file_path = os.path.join(root_folder, csv_file)\n",
    "    process_dataset(file_path)\n",
    "    print(f'{file_path}')"
   ]
  },
  {
   "cell_type": "code",
   "execution_count": null,
   "id": "845a6230-e4f4-470d-8df8-de5d92490b4a",
   "metadata": {},
   "outputs": [],
   "source": [
    "test_size = 0.9\n",
    "\n",
    "for csv_file in all_csv_files_sorted:\n",
    "    file_path = os.path.join(root_folder, csv_file)\n",
    "    process_dataset(file_path)\n",
    "    print(f'{file_path}')"
   ]
  },
  {
   "cell_type": "code",
   "execution_count": null,
   "id": "0b418552-b1e6-447a-8c51-cd69e55355bb",
   "metadata": {},
   "outputs": [],
   "source": [
    "test_size = 0.95\n",
    "\n",
    "for csv_file in all_csv_files_sorted:\n",
    "    file_path = os.path.join(root_folder, csv_file)\n",
    "    process_dataset(file_path)\n",
    "    print(f'{file_path}')"
   ]
  },
  {
   "cell_type": "code",
   "execution_count": null,
   "id": "c3a8013f-5f2c-420a-a57a-e98c548cef8c",
   "metadata": {},
   "outputs": [],
   "source": [
    "test_size = 0.99\n",
    "\n",
    "for csv_file in all_csv_files_sorted:\n",
    "    file_path = os.path.join(root_folder, csv_file)\n",
    "    process_dataset(file_path)\n",
    "    print(f'{file_path}')"
   ]
  }
 ],
 "metadata": {
  "kernelspec": {
   "display_name": "Python 3 (ipykernel)",
   "language": "python",
   "name": "python3"
  },
  "language_info": {
   "codemirror_mode": {
    "name": "ipython",
    "version": 3
   },
   "file_extension": ".py",
   "mimetype": "text/x-python",
   "name": "python",
   "nbconvert_exporter": "python",
   "pygments_lexer": "ipython3",
   "version": "3.10.11"
  }
 },
 "nbformat": 4,
 "nbformat_minor": 5
}
